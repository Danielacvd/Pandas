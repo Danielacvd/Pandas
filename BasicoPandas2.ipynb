{
  "nbformat": 4,
  "nbformat_minor": 0,
  "metadata": {
    "colab": {
      "name": "BasicoPandas.ipynb",
      "provenance": [],
      "collapsed_sections": []
    },
    "kernelspec": {
      "name": "python3",
      "display_name": "Python 3"
    }
  },
  "cells": [
    {
      "cell_type": "code",
      "metadata": {
        "id": "4S6rZRbCPXGp"
      },
      "source": [
        "import pandas as pd"
      ],
      "execution_count": 1,
      "outputs": []
    },
    {
      "cell_type": "code",
      "metadata": {
        "id": "L4b-yNPePd_e",
        "outputId": "9c7017c7-f279-43d7-9e84-26a2ee63f81e",
        "colab": {
          "base_uri": "https://localhost:8080/",
          "height": 195
        }
      },
      "source": [
        "#Para leer un archivo en excel dentro del pc, y podemos crear un fichero/estructura pandas usando el archivo\n",
        "#Tenemos 3 columnas\n",
        "dataframe = pd.read_csv('personas.csv')\n",
        "#La informacion queda en esta var dataframe\n",
        "dataframe"
      ],
      "execution_count": 8,
      "outputs": [
        {
          "output_type": "execute_result",
          "data": {
            "text/html": [
              "<div>\n",
              "<style scoped>\n",
              "    .dataframe tbody tr th:only-of-type {\n",
              "        vertical-align: middle;\n",
              "    }\n",
              "\n",
              "    .dataframe tbody tr th {\n",
              "        vertical-align: top;\n",
              "    }\n",
              "\n",
              "    .dataframe thead th {\n",
              "        text-align: right;\n",
              "    }\n",
              "</style>\n",
              "<table border=\"1\" class=\"dataframe\">\n",
              "  <thead>\n",
              "    <tr style=\"text-align: right;\">\n",
              "      <th></th>\n",
              "      <th>NOMBRE</th>\n",
              "      <th>APELLIDOS</th>\n",
              "      <th>EDAD</th>\n",
              "      <th>SALARIO</th>\n",
              "    </tr>\n",
              "  </thead>\n",
              "  <tbody>\n",
              "    <tr>\n",
              "      <th>0</th>\n",
              "      <td>ANTONIO</td>\n",
              "      <td>PEREZ GOMEZ</td>\n",
              "      <td>34</td>\n",
              "      <td>20000</td>\n",
              "    </tr>\n",
              "    <tr>\n",
              "      <th>1</th>\n",
              "      <td>LUIS</td>\n",
              "      <td>RODRIGUEZ VAZQUEZ</td>\n",
              "      <td>45</td>\n",
              "      <td>45000</td>\n",
              "    </tr>\n",
              "    <tr>\n",
              "      <th>2</th>\n",
              "      <td>ROSA</td>\n",
              "      <td>MARTINEZ LOPEZ</td>\n",
              "      <td>25</td>\n",
              "      <td>15000</td>\n",
              "    </tr>\n",
              "    <tr>\n",
              "      <th>3</th>\n",
              "      <td>PEDRO</td>\n",
              "      <td>SILVA GONZALEZ</td>\n",
              "      <td>54</td>\n",
              "      <td>50000</td>\n",
              "    </tr>\n",
              "    <tr>\n",
              "      <th>4</th>\n",
              "      <td>MARIA</td>\n",
              "      <td>DIAZ LOPEZ</td>\n",
              "      <td>40</td>\n",
              "      <td>32000</td>\n",
              "    </tr>\n",
              "  </tbody>\n",
              "</table>\n",
              "</div>"
            ],
            "text/plain": [
              "    NOMBRE          APELLIDOS  EDAD  SALARIO\n",
              "0  ANTONIO        PEREZ GOMEZ    34    20000\n",
              "1     LUIS  RODRIGUEZ VAZQUEZ    45    45000\n",
              "2     ROSA     MARTINEZ LOPEZ    25    15000\n",
              "3    PEDRO     SILVA GONZALEZ    54    50000\n",
              "4    MARIA         DIAZ LOPEZ    40    32000"
            ]
          },
          "metadata": {
            "tags": []
          },
          "execution_count": 8
        }
      ]
    },
    {
      "cell_type": "code",
      "metadata": {
        "id": "femBRbLWP4C-",
        "outputId": "a1e857ad-d64e-448d-9610-550a34c2d85c",
        "colab": {
          "base_uri": "https://localhost:8080/",
          "height": 284
        }
      },
      "source": [
        "#con el metodo describe podemos ver la informacion del dataframe\n",
        "dataframe.describe()"
      ],
      "execution_count": 10,
      "outputs": [
        {
          "output_type": "execute_result",
          "data": {
            "text/html": [
              "<div>\n",
              "<style scoped>\n",
              "    .dataframe tbody tr th:only-of-type {\n",
              "        vertical-align: middle;\n",
              "    }\n",
              "\n",
              "    .dataframe tbody tr th {\n",
              "        vertical-align: top;\n",
              "    }\n",
              "\n",
              "    .dataframe thead th {\n",
              "        text-align: right;\n",
              "    }\n",
              "</style>\n",
              "<table border=\"1\" class=\"dataframe\">\n",
              "  <thead>\n",
              "    <tr style=\"text-align: right;\">\n",
              "      <th></th>\n",
              "      <th>EDAD</th>\n",
              "      <th>SALARIO</th>\n",
              "    </tr>\n",
              "  </thead>\n",
              "  <tbody>\n",
              "    <tr>\n",
              "      <th>count</th>\n",
              "      <td>5.000000</td>\n",
              "      <td>5.000000</td>\n",
              "    </tr>\n",
              "    <tr>\n",
              "      <th>mean</th>\n",
              "      <td>39.600000</td>\n",
              "      <td>32400.000000</td>\n",
              "    </tr>\n",
              "    <tr>\n",
              "      <th>std</th>\n",
              "      <td>10.968136</td>\n",
              "      <td>15208.550227</td>\n",
              "    </tr>\n",
              "    <tr>\n",
              "      <th>min</th>\n",
              "      <td>25.000000</td>\n",
              "      <td>15000.000000</td>\n",
              "    </tr>\n",
              "    <tr>\n",
              "      <th>25%</th>\n",
              "      <td>34.000000</td>\n",
              "      <td>20000.000000</td>\n",
              "    </tr>\n",
              "    <tr>\n",
              "      <th>50%</th>\n",
              "      <td>40.000000</td>\n",
              "      <td>32000.000000</td>\n",
              "    </tr>\n",
              "    <tr>\n",
              "      <th>75%</th>\n",
              "      <td>45.000000</td>\n",
              "      <td>45000.000000</td>\n",
              "    </tr>\n",
              "    <tr>\n",
              "      <th>max</th>\n",
              "      <td>54.000000</td>\n",
              "      <td>50000.000000</td>\n",
              "    </tr>\n",
              "  </tbody>\n",
              "</table>\n",
              "</div>"
            ],
            "text/plain": [
              "            EDAD       SALARIO\n",
              "count   5.000000      5.000000\n",
              "mean   39.600000  32400.000000\n",
              "std    10.968136  15208.550227\n",
              "min    25.000000  15000.000000\n",
              "25%    34.000000  20000.000000\n",
              "50%    40.000000  32000.000000\n",
              "75%    45.000000  45000.000000\n",
              "max    54.000000  50000.000000"
            ]
          },
          "metadata": {
            "tags": []
          },
          "execution_count": 10
        }
      ]
    },
    {
      "cell_type": "code",
      "metadata": {
        "id": "9idM49Y-Q5S2",
        "outputId": "8c711e3b-1074-4b09-9263-be907c9db05a",
        "colab": {
          "base_uri": "https://localhost:8080/",
          "height": 118
        }
      },
      "source": [
        "#Asi podemos obtener informacion de una columna en especifico\n",
        "dataframe['NOMBRE']"
      ],
      "execution_count": 13,
      "outputs": [
        {
          "output_type": "execute_result",
          "data": {
            "text/plain": [
              "0    ANTONIO\n",
              "1       LUIS\n",
              "2       ROSA\n",
              "3      PEDRO\n",
              "4      MARIA\n",
              "Name: NOMBRE, dtype: object"
            ]
          },
          "metadata": {
            "tags": []
          },
          "execution_count": 13
        }
      ]
    },
    {
      "cell_type": "code",
      "metadata": {
        "id": "f_MHPBcyRMg3",
        "outputId": "29d9c18f-9aed-4209-f697-4be407157781",
        "colab": {
          "base_uri": "https://localhost:8080/",
          "height": 35
        }
      },
      "source": [
        "dataframe['NOMBRE'][0]"
      ],
      "execution_count": 15,
      "outputs": [
        {
          "output_type": "execute_result",
          "data": {
            "application/vnd.google.colaboratory.intrinsic+json": {
              "type": "string"
            },
            "text/plain": [
              "'ANTONIO'"
            ]
          },
          "metadata": {
            "tags": []
          },
          "execution_count": 15
        }
      ]
    },
    {
      "cell_type": "code",
      "metadata": {
        "id": "vzqPsmPpRWV_",
        "outputId": "73063a12-8c38-4130-922d-e2612f273ae8",
        "colab": {
          "base_uri": "https://localhost:8080/",
          "height": 195
        }
      },
      "source": [
        "#Lista de columnas\n",
        "dataframe[['NOMBRE', 'APELLIDOS']]"
      ],
      "execution_count": 20,
      "outputs": [
        {
          "output_type": "execute_result",
          "data": {
            "text/html": [
              "<div>\n",
              "<style scoped>\n",
              "    .dataframe tbody tr th:only-of-type {\n",
              "        vertical-align: middle;\n",
              "    }\n",
              "\n",
              "    .dataframe tbody tr th {\n",
              "        vertical-align: top;\n",
              "    }\n",
              "\n",
              "    .dataframe thead th {\n",
              "        text-align: right;\n",
              "    }\n",
              "</style>\n",
              "<table border=\"1\" class=\"dataframe\">\n",
              "  <thead>\n",
              "    <tr style=\"text-align: right;\">\n",
              "      <th></th>\n",
              "      <th>NOMBRE</th>\n",
              "      <th>APELLIDOS</th>\n",
              "    </tr>\n",
              "  </thead>\n",
              "  <tbody>\n",
              "    <tr>\n",
              "      <th>0</th>\n",
              "      <td>ANTONIO</td>\n",
              "      <td>PEREZ GOMEZ</td>\n",
              "    </tr>\n",
              "    <tr>\n",
              "      <th>1</th>\n",
              "      <td>LUIS</td>\n",
              "      <td>RODRIGUEZ VAZQUEZ</td>\n",
              "    </tr>\n",
              "    <tr>\n",
              "      <th>2</th>\n",
              "      <td>ROSA</td>\n",
              "      <td>MARTINEZ LOPEZ</td>\n",
              "    </tr>\n",
              "    <tr>\n",
              "      <th>3</th>\n",
              "      <td>PEDRO</td>\n",
              "      <td>SILVA GONZALEZ</td>\n",
              "    </tr>\n",
              "    <tr>\n",
              "      <th>4</th>\n",
              "      <td>MARIA</td>\n",
              "      <td>DIAZ LOPEZ</td>\n",
              "    </tr>\n",
              "  </tbody>\n",
              "</table>\n",
              "</div>"
            ],
            "text/plain": [
              "    NOMBRE          APELLIDOS\n",
              "0  ANTONIO        PEREZ GOMEZ\n",
              "1     LUIS  RODRIGUEZ VAZQUEZ\n",
              "2     ROSA     MARTINEZ LOPEZ\n",
              "3    PEDRO     SILVA GONZALEZ\n",
              "4    MARIA         DIAZ LOPEZ"
            ]
          },
          "metadata": {
            "tags": []
          },
          "execution_count": 20
        }
      ]
    },
    {
      "cell_type": "code",
      "metadata": {
        "id": "XMFedc31Rky8",
        "outputId": "866e6657-4bf0-48d3-c61d-3f850d5fd2a0",
        "colab": {
          "base_uri": "https://localhost:8080/",
          "height": 118
        }
      },
      "source": [
        "#Para el maximo de salario...\n",
        "dataframe['SALARIO'] > 30000"
      ],
      "execution_count": 21,
      "outputs": [
        {
          "output_type": "execute_result",
          "data": {
            "text/plain": [
              "0    False\n",
              "1     True\n",
              "2    False\n",
              "3     True\n",
              "4     True\n",
              "Name: SALARIO, dtype: bool"
            ]
          },
          "metadata": {
            "tags": []
          },
          "execution_count": 21
        }
      ]
    },
    {
      "cell_type": "code",
      "metadata": {
        "id": "IdeXDigQR5zE"
      },
      "source": [
        "filtro = dataframe['SALARIO'] > 30000\n",
        "dataframe2 = dataframe[filtro]\n",
        "dataframe2"
      ],
      "execution_count": null,
      "outputs": []
    },
    {
      "cell_type": "code",
      "metadata": {
        "id": "OHRWNBYASCLT",
        "outputId": "410506e3-7f51-4221-a453-c75208c9fa12",
        "colab": {
          "base_uri": "https://localhost:8080/",
          "height": 67
        }
      },
      "source": [
        "#El dataframe se puede convertir en un array\n",
        "dataframe2.values"
      ],
      "execution_count": 27,
      "outputs": [
        {
          "output_type": "execute_result",
          "data": {
            "text/plain": [
              "array([['LUIS', 'RODRIGUEZ VAZQUEZ', 45, 45000],\n",
              "       ['PEDRO', 'SILVA GONZALEZ', 54, 50000],\n",
              "       ['MARIA', 'DIAZ LOPEZ', 40, 32000]], dtype=object)"
            ]
          },
          "metadata": {
            "tags": []
          },
          "execution_count": 27
        }
      ]
    },
    {
      "cell_type": "code",
      "metadata": {
        "id": "WnNUdbOdSYAt",
        "outputId": "3a525528-d4a2-409b-b805-75d69e6b203b",
        "colab": {
          "base_uri": "https://localhost:8080/",
          "height": 35
        }
      },
      "source": [
        "array = dataframe2.values\n",
        "array[0,1]"
      ],
      "execution_count": 29,
      "outputs": [
        {
          "output_type": "execute_result",
          "data": {
            "application/vnd.google.colaboratory.intrinsic+json": {
              "type": "string"
            },
            "text/plain": [
              "'RODRIGUEZ VAZQUEZ'"
            ]
          },
          "metadata": {
            "tags": []
          },
          "execution_count": 29
        }
      ]
    },
    {
      "cell_type": "code",
      "metadata": {
        "id": "Sxy9SclQSf-P"
      },
      "source": [
        ""
      ],
      "execution_count": null,
      "outputs": []
    }
  ]
}